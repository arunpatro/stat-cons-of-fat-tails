{
 "cells": [
  {
   "cell_type": "markdown",
   "metadata": {},
   "source": [
    "Consequence 9:\n",
    "\n",
    "Principal component analysis (PCA) and factor analysis are likely to produce spuri-ous factors and loads."
   ]
  },
  {
   "cell_type": "code",
   "execution_count": null,
   "metadata": {},
   "outputs": [],
   "source": [
    "3.5\n",
    "\n",
    "naive empiricism: ebola should not be compared to falls fromladders"
   ]
  },
  {
   "cell_type": "code",
   "execution_count": null,
   "metadata": {},
   "outputs": [],
   "source": [
    "Mediocristan vs. Extremistan:\n",
    "\n",
    "Claim: "
   ]
  },
  {
   "cell_type": "code",
   "execution_count": 15,
   "metadata": {},
   "outputs": [],
   "source": [
    "import numpy as np\n",
    "import torch\n",
    "from torch import optim\n",
    "from tqdm import tqdm"
   ]
  },
  {
   "cell_type": "markdown",
   "metadata": {},
   "source": [
    "## Mediocristan\n",
    "* In Mediocristan, the probability of sampling higher than X twice in arow is greater than sampling higher than 2X once."
   ]
  },
  {
   "cell_type": "code",
   "execution_count": 117,
   "metadata": {},
   "outputs": [
    {
     "name": "stderr",
     "output_type": "stream",
     "text": [
      "100%|██████████| 10000/10000 [00:05<00:00, 1798.54it/s]"
     ]
    },
    {
     "name": "stdout",
     "output_type": "stream",
     "text": [
      "tensor([ 1., 14.], grad_fn=<SqueezeBackward0>)\n"
     ]
    },
    {
     "name": "stderr",
     "output_type": "stream",
     "text": [
      "\n"
     ]
    }
   ],
   "source": [
    "mu = 4 * torch.ones([2])\n",
    "sigma = torch.eye(2)\n",
    "_x = torch.tensor([1.], requires_grad=True)\n",
    "optimizer = optim.Adam([_x], lr=0.01)\n",
    "\n",
    "for i in tqdm(range(10000)):\n",
    "    optimizer.zero_grad()\n",
    "\n",
    "    x = torch.stack([_x, 15 - _x]).squeeze() # constraint\n",
    "    px = torch.exp(-0.5 * (x - mu).T @ sigma.inverse() @ (x - mu)) / torch.sqrt((2*np.pi)**2 * sigma.det())  \n",
    "#     log_px =  -0.5 * (x - mu).T @ sigma.inverse() @ (x - mu) - 0.5 * torch.log((2*np.pi)**2 * sigma.det())\n",
    "    \n",
    "    loss = -px\n",
    "    loss.backward()\n",
    "    optimizer.step()\n",
    "    if i % 100 == 0:\n",
    "#         print(_x.item(), px.item(), log_px.item(), loss.item(), x, langrage_lambda.item())\n",
    "        pass\n",
    "\n",
    "print(x) #"
   ]
  },
  {
   "cell_type": "code",
   "execution_count": 108,
   "metadata": {},
   "outputs": [
    {
     "data": {
      "text/plain": [
       "tensor(-1021.8099, grad_fn=<DotBackward>)"
      ]
     },
     "execution_count": 108,
     "metadata": {},
     "output_type": "execute_result"
    }
   ],
   "source": []
  },
  {
   "cell_type": "code",
   "execution_count": 90,
   "metadata": {},
   "outputs": [
    {
     "data": {
      "text/plain": [
       "(tensor([101.0032], requires_grad=True),\n",
       " tensor([1., 9.], grad_fn=<SqueezeBackward0>),\n",
       " tensor([101.0032, -91.0032], grad_fn=<CatBackward>))"
      ]
     },
     "execution_count": 90,
     "metadata": {},
     "output_type": "execute_result"
    }
   ],
   "source": []
  },
  {
   "cell_type": "code",
   "execution_count": 125,
   "metadata": {},
   "outputs": [],
   "source": [
    "# Pareto\n",
    "alpha = torch.Tensor([1.])\n",
    "x_min = torch.Tensor([0.1])\n",
    "x = torch.tensor([4.], requires_grad=True)\n",
    "\n",
    "px = ((alpha - 1) / x_min) * (x / x_min).pow(-alpha)\n",
    "log_px = torch.log((alpha - 1) / x_min) - alpha * torch.log(x) + alpha * torch.log(x_min)"
   ]
  },
  {
   "cell_type": "code",
   "execution_count": 127,
   "metadata": {},
   "outputs": [
    {
     "data": {
      "text/plain": [
       "(tensor([0.], grad_fn=<MulBackward0>), tensor([-inf], grad_fn=<AddBackward0>))"
      ]
     },
     "execution_count": 127,
     "metadata": {},
     "output_type": "execute_result"
    }
   ],
   "source": []
  },
  {
   "cell_type": "code",
   "execution_count": 17,
   "metadata": {},
   "outputs": [
    {
     "name": "stdout",
     "output_type": "stream",
     "text": [
      "tensor([8.7731e-07, 8.7731e-07], requires_grad=True)\n"
     ]
    }
   ],
   "source": [
    "## Extremistan, IID LogNormal\n",
    "\n",
    "mu = 4 * torch.ones([2])\n",
    "sigma = torch.eye(2)\n",
    "x = torch.ones([2], requires_grad=True)\n",
    "\n",
    "optimizer = optim.Adam([x], lr=0.01)\n",
    "\n",
    "for i in range(100):\n",
    "    optimizer.zero_grad()\n",
    "    \n",
    "    p_x = torch.exp(-0.5 * (x - mu).T @ sigma.inverse() @ (x - mu)) / torch.sqrt((2*np.pi)**2 * sigma.det())   \n",
    "    objective = p_x - 100 * (x.sum() - 4) # constraint is the sum of variables\n",
    "    \n",
    "    loss = -objective\n",
    "    loss.backward()\n",
    "    optimizer.step()\n",
    "\n",
    "print(x) #"
   ]
  },
  {
   "cell_type": "code",
   "execution_count": 8,
   "metadata": {},
   "outputs": [
    {
     "data": {
      "text/plain": [
       "tensor([2.0006, 2.0006], requires_grad=True)"
      ]
     },
     "execution_count": 8,
     "metadata": {},
     "output_type": "execute_result"
    }
   ],
   "source": [
    "x"
   ]
  },
  {
   "cell_type": "code",
   "execution_count": 75,
   "metadata": {},
   "outputs": [
    {
     "data": {
      "text/plain": [
       "tensor([[0.2500, -0.0000],\n",
       "        [0.0000, 0.2500]])"
      ]
     },
     "execution_count": 75,
     "metadata": {},
     "output_type": "execute_result"
    }
   ],
   "source": [
    "torch.Tensor([[4, 0], [0, 4]]).inverse()"
   ]
  },
  {
   "cell_type": "markdown",
   "metadata": {},
   "source": [
    "## Learnings"
   ]
  },
  {
   "cell_type": "markdown",
   "metadata": {},
   "source": [
    "* This highlights the crisp distinction between the two domains; for the class ofsubexponential distributions, ruin is more likely to come from a single extremeevent than from a series of bad episodes."
   ]
  },
  {
   "cell_type": "code",
   "execution_count": null,
   "metadata": {},
   "outputs": [],
   "source": []
  }
 ],
 "metadata": {
  "kernelspec": {
   "display_name": "Python 3",
   "language": "python",
   "name": "python3"
  },
  "language_info": {
   "codemirror_mode": {
    "name": "ipython",
    "version": 3
   },
   "file_extension": ".py",
   "mimetype": "text/x-python",
   "name": "python",
   "nbconvert_exporter": "python",
   "pygments_lexer": "ipython3",
   "version": "3.6.10"
  }
 },
 "nbformat": 4,
 "nbformat_minor": 4
}
