{
 "cells": [
  {
   "cell_type": "markdown",
   "metadata": {},
   "source": [
    "Consequence 9:\n",
    "\n"
   ]
  },
  {
   "cell_type": "code",
   "execution_count": 1,
   "metadata": {},
   "outputs": [],
   "source": [
    "import numpy as np\n",
    "import torch\n",
    "from torch import optim\n",
    "from tqdm import tqdm\n",
    "import matplotlib.pyplot as plt"
   ]
  },
  {
   "cell_type": "markdown",
   "metadata": {},
   "source": [
    "## Mediocristan\n",
    "* In Mediocristan, the probability of sampling higher than X twice in a row is greater than sampling higher than 2X once."
   ]
  },
  {
   "cell_type": "code",
   "execution_count": 4,
   "metadata": {},
   "outputs": [
    {
     "name": "stderr",
     "output_type": "stream",
     "text": [
      "100%|██████████| 10000/10000 [00:05<00:00, 1863.26it/s]"
     ]
    },
    {
     "name": "stdout",
     "output_type": "stream",
     "text": [
      "If sum of two values is constant, then in thin tailed, it is likely that no tail event.\n",
      "tensor([7.5000, 7.5000], grad_fn=<SqueezeBackward0>)\n"
     ]
    },
    {
     "name": "stderr",
     "output_type": "stream",
     "text": [
      "\n"
     ]
    }
   ],
   "source": [
    "mu = 4 * torch.ones([2])\n",
    "sigma = torch.eye(2)\n",
    "_x = torch.tensor([1.], requires_grad=True)\n",
    "optimizer = optim.Adam([_x], lr=0.01)\n",
    "\n",
    "for i in tqdm(range(10000)):\n",
    "    optimizer.zero_grad()\n",
    "\n",
    "    x = torch.stack([_x, 15 - _x]).squeeze() # constraint\n",
    "#     px = torch.exp(-0.5 * (x - mu).T @ sigma.inverse() @ (x - mu)) / torch.sqrt((2*np.pi)**2 * sigma.det())  \n",
    "    log_px =  -0.5 * (x - mu).T @ sigma.inverse() @ (x - mu) - 0.5 * torch.log((2*np.pi)**2 * sigma.det())\n",
    "    \n",
    "    loss = -log_px\n",
    "    loss.backward()\n",
    "    optimizer.step()\n",
    "    if i % 100 == 0:\n",
    "#         print(_x.item(), px.item(), log_px.item(), loss.item(), x, langrage_lambda.item())\n",
    "        pass\n",
    "\n",
    "print('If sum of two values is constant, then in thin tailed, it is likely that no tail event.')\n",
    "print(x) #"
   ]
  },
  {
   "cell_type": "markdown",
   "metadata": {},
   "source": [
    "## Extremistan\n",
    "* In Extremistan, the probability of sampling higher than 2X once is greater than sampling higher than X twice in a row."
   ]
  },
  {
   "cell_type": "code",
   "execution_count": 5,
   "metadata": {},
   "outputs": [
    {
     "name": "stderr",
     "output_type": "stream",
     "text": [
      "100%|██████████| 10000/10000 [00:03<00:00, 3248.25it/s]"
     ]
    },
    {
     "name": "stdout",
     "output_type": "stream",
     "text": [
      "If sum of two values is constant, then in thicktailed, it is likely that a tail event has occured.\n",
      "0.10000000149011612 14.899999998509884\n"
     ]
    },
    {
     "name": "stderr",
     "output_type": "stream",
     "text": [
      "\n"
     ]
    }
   ],
   "source": [
    "## Extremistan, IID Pareto\n",
    "\n",
    "alpha = torch.Tensor([1.2])\n",
    "x_min = torch.Tensor([0.1])\n",
    "x = torch.tensor([4.], requires_grad=True)\n",
    "optimizer = optim.Adam([x], lr=0.01)\n",
    "\n",
    "for i in tqdm(range(10000)):\n",
    "    optimizer.zero_grad()\n",
    "\n",
    "#     px = ((alpha - 1) / x_min) * (x * (15 - x) / x_min).pow(-alpha)\n",
    "    log_px = torch.log((alpha - 1) / x_min) - alpha * torch.log(x * (15 - x)) + alpha * torch.log(x_min)\n",
    "\n",
    "    loss = -log_px\n",
    "    loss.backward()\n",
    "    optimizer.step()\n",
    "    with torch.no_grad():\n",
    "        x.clamp_(0.1)\n",
    "    if i % 100 == 0:\n",
    "#         print(x.item(), px.item(), loss.item())\n",
    "        pass\n",
    "\n",
    "print('If sum of two values is constant, then in thicktailed, it is likely that a tail event has occured.')\n",
    "print(x.item(), 15 - x.item()) #"
   ]
  },
  {
   "cell_type": "markdown",
   "metadata": {},
   "source": [
    "* This highlights the crisp distinction between the two domains; for the class ofsubexponential distributions, ruin is more likely to come from a single extremeevent than from a series of bad episodes.\n",
    "* naive empiricism: ebola should not be compared to falls fromladders\n",
    "* Principal component analysis (PCA) and factor analysis are likely to produce spuri-ous factors and loads."
   ]
  },
  {
   "cell_type": "markdown",
   "metadata": {},
   "source": [
    "## Spurious PCA"
   ]
  },
  {
   "cell_type": "code",
   "execution_count": null,
   "metadata": {},
   "outputs": [],
   "source": []
  }
 ],
 "metadata": {
  "kernelspec": {
   "display_name": "Python 3",
   "language": "python",
   "name": "python3"
  },
  "language_info": {
   "codemirror_mode": {
    "name": "ipython",
    "version": 3
   },
   "file_extension": ".py",
   "mimetype": "text/x-python",
   "name": "python",
   "nbconvert_exporter": "python",
   "pygments_lexer": "ipython3",
   "version": "3.6.10"
  }
 },
 "nbformat": 4,
 "nbformat_minor": 4
}
